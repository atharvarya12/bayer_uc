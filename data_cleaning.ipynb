{
 "cells": [
  {
   "cell_type": "code",
   "execution_count": 1,
   "id": "d514997c",
   "metadata": {},
   "outputs": [],
   "source": [
    "import pandas as pd \n",
    "import matplotlib as plt"
   ]
  },
  {
   "cell_type": "code",
   "execution_count": 2,
   "id": "499f27f3",
   "metadata": {},
   "outputs": [],
   "source": [
    "df = pd.read_csv('/workspaces/bayer_uc/clinical_trial_with_target.csv')"
   ]
  },
  {
   "cell_type": "code",
   "execution_count": 3,
   "id": "fc14d09d",
   "metadata": {},
   "outputs": [
    {
     "data": {
      "text/html": [
       "<div>\n",
       "<style scoped>\n",
       "    .dataframe tbody tr th:only-of-type {\n",
       "        vertical-align: middle;\n",
       "    }\n",
       "\n",
       "    .dataframe tbody tr th {\n",
       "        vertical-align: top;\n",
       "    }\n",
       "\n",
       "    .dataframe thead th {\n",
       "        text-align: right;\n",
       "    }\n",
       "</style>\n",
       "<table border=\"1\" class=\"dataframe\">\n",
       "  <thead>\n",
       "    <tr style=\"text-align: right;\">\n",
       "      <th></th>\n",
       "      <th>nct_id</th>\n",
       "      <th>phase</th>\n",
       "      <th>condition</th>\n",
       "      <th>intervention_type</th>\n",
       "      <th>study_design</th>\n",
       "      <th>sponsor_type</th>\n",
       "      <th>enrollment</th>\n",
       "      <th>status</th>\n",
       "      <th>gender</th>\n",
       "      <th>min_age</th>\n",
       "      <th>max_age</th>\n",
       "      <th>location</th>\n",
       "      <th>start_date</th>\n",
       "      <th>completion_date</th>\n",
       "      <th>results</th>\n",
       "      <th>p_value</th>\n",
       "      <th>final_status</th>\n",
       "    </tr>\n",
       "  </thead>\n",
       "  <tbody>\n",
       "    <tr>\n",
       "      <th>0</th>\n",
       "      <td>NCT000006201</td>\n",
       "      <td>PHASE3</td>\n",
       "      <td>Hypercholesterolemia</td>\n",
       "      <td>DRUG</td>\n",
       "      <td>RANDOMIZED</td>\n",
       "      <td>NIH</td>\n",
       "      <td>10251.0</td>\n",
       "      <td>COMPLETED</td>\n",
       "      <td>ALL</td>\n",
       "      <td>40 Years</td>\n",
       "      <td>79 Years</td>\n",
       "      <td>Canada</td>\n",
       "      <td>1999-09-30</td>\n",
       "      <td>2012-12-31</td>\n",
       "      <td>Glycemia Trial: Standard Control/Lipid Trial: ...</td>\n",
       "      <td>0.020</td>\n",
       "      <td>success</td>\n",
       "    </tr>\n",
       "    <tr>\n",
       "      <th>1</th>\n",
       "      <td>NCT000004091</td>\n",
       "      <td>PHASE4</td>\n",
       "      <td>Spondylolisthesis</td>\n",
       "      <td>OTHER</td>\n",
       "      <td>RANDOMIZED</td>\n",
       "      <td>NIH</td>\n",
       "      <td>304.0</td>\n",
       "      <td>COMPLETED</td>\n",
       "      <td>ALL</td>\n",
       "      <td>18 Years</td>\n",
       "      <td>NaN</td>\n",
       "      <td>United States</td>\n",
       "      <td>2000-03-31</td>\n",
       "      <td>2015-04-30</td>\n",
       "      <td>No result</td>\n",
       "      <td>NaN</td>\n",
       "      <td>fail</td>\n",
       "    </tr>\n",
       "    <tr>\n",
       "      <th>2</th>\n",
       "      <td>NCT000006202</td>\n",
       "      <td>PHASE3</td>\n",
       "      <td>Hypercholesterolemia</td>\n",
       "      <td>DRUG</td>\n",
       "      <td>RANDOMIZED</td>\n",
       "      <td>FED</td>\n",
       "      <td>10251.0</td>\n",
       "      <td>COMPLETED</td>\n",
       "      <td>ALL</td>\n",
       "      <td>40 Years</td>\n",
       "      <td>79 Years</td>\n",
       "      <td>United States</td>\n",
       "      <td>1999-09-30</td>\n",
       "      <td>2012-12-31</td>\n",
       "      <td>Glycemia Trial: Standard Control</td>\n",
       "      <td>0.320</td>\n",
       "      <td>fail</td>\n",
       "    </tr>\n",
       "    <tr>\n",
       "      <th>3</th>\n",
       "      <td>NCT000025971</td>\n",
       "      <td>PHASE3</td>\n",
       "      <td>Prostate Cancer</td>\n",
       "      <td>DRUG</td>\n",
       "      <td>RANDOMIZED</td>\n",
       "      <td>NIH</td>\n",
       "      <td>2028.0</td>\n",
       "      <td>COMPLETED</td>\n",
       "      <td>MALE</td>\n",
       "      <td>18 Years</td>\n",
       "      <td>NaN</td>\n",
       "      <td>United States</td>\n",
       "      <td>1994-10-31</td>\n",
       "      <td>2018-05-14</td>\n",
       "      <td>Radiation Therapy Alone</td>\n",
       "      <td>0.001</td>\n",
       "      <td>success</td>\n",
       "    </tr>\n",
       "    <tr>\n",
       "      <th>4</th>\n",
       "      <td>NCT000006203</td>\n",
       "      <td>PHASE3</td>\n",
       "      <td>Cardiovascular Diseases</td>\n",
       "      <td>DRUG</td>\n",
       "      <td>RANDOMIZED</td>\n",
       "      <td>NIH</td>\n",
       "      <td>10251.0</td>\n",
       "      <td>COMPLETED</td>\n",
       "      <td>ALL</td>\n",
       "      <td>40 Years</td>\n",
       "      <td>79 Years</td>\n",
       "      <td>United States</td>\n",
       "      <td>1999-09-30</td>\n",
       "      <td>2012-12-31</td>\n",
       "      <td>Glycemia Trial: Intensive Control</td>\n",
       "      <td>0.320</td>\n",
       "      <td>fail</td>\n",
       "    </tr>\n",
       "  </tbody>\n",
       "</table>\n",
       "</div>"
      ],
      "text/plain": [
       "         nct_id   phase                condition intervention_type  \\\n",
       "0  NCT000006201  PHASE3     Hypercholesterolemia              DRUG   \n",
       "1  NCT000004091  PHASE4        Spondylolisthesis             OTHER   \n",
       "2  NCT000006202  PHASE3     Hypercholesterolemia              DRUG   \n",
       "3  NCT000025971  PHASE3          Prostate Cancer              DRUG   \n",
       "4  NCT000006203  PHASE3  Cardiovascular Diseases              DRUG   \n",
       "\n",
       "  study_design sponsor_type  enrollment     status gender   min_age   max_age  \\\n",
       "0   RANDOMIZED          NIH     10251.0  COMPLETED    ALL  40 Years  79 Years   \n",
       "1   RANDOMIZED          NIH       304.0  COMPLETED    ALL  18 Years       NaN   \n",
       "2   RANDOMIZED          FED     10251.0  COMPLETED    ALL  40 Years  79 Years   \n",
       "3   RANDOMIZED          NIH      2028.0  COMPLETED   MALE  18 Years       NaN   \n",
       "4   RANDOMIZED          NIH     10251.0  COMPLETED    ALL  40 Years  79 Years   \n",
       "\n",
       "        location  start_date completion_date  \\\n",
       "0         Canada  1999-09-30      2012-12-31   \n",
       "1  United States  2000-03-31      2015-04-30   \n",
       "2  United States  1999-09-30      2012-12-31   \n",
       "3  United States  1994-10-31      2018-05-14   \n",
       "4  United States  1999-09-30      2012-12-31   \n",
       "\n",
       "                                             results  p_value final_status  \n",
       "0  Glycemia Trial: Standard Control/Lipid Trial: ...    0.020      success  \n",
       "1                                          No result      NaN         fail  \n",
       "2                   Glycemia Trial: Standard Control    0.320         fail  \n",
       "3                            Radiation Therapy Alone    0.001      success  \n",
       "4                  Glycemia Trial: Intensive Control    0.320         fail  "
      ]
     },
     "execution_count": 3,
     "metadata": {},
     "output_type": "execute_result"
    }
   ],
   "source": [
    "df.head()"
   ]
  },
  {
   "cell_type": "code",
   "execution_count": 4,
   "id": "5fdf85c6",
   "metadata": {},
   "outputs": [
    {
     "data": {
      "text/plain": [
       "nct_id               130000\n",
       "phase                     6\n",
       "condition               240\n",
       "intervention_type         7\n",
       "study_design              2\n",
       "sponsor_type              6\n",
       "enrollment              107\n",
       "status                    1\n",
       "gender                    3\n",
       "min_age                  42\n",
       "max_age                  64\n",
       "location                  2\n",
       "start_date              196\n",
       "completion_date         203\n",
       "results                  52\n",
       "p_value                  14\n",
       "final_status              2\n",
       "dtype: int64"
      ]
     },
     "execution_count": 4,
     "metadata": {},
     "output_type": "execute_result"
    }
   ],
   "source": [
    "df.nunique()"
   ]
  },
  {
   "cell_type": "code",
   "execution_count": 5,
   "id": "ff21e220",
   "metadata": {},
   "outputs": [
    {
     "name": "stdout",
     "output_type": "stream",
     "text": [
      "nct_id: ['NCT000006201' 'NCT000004091' 'NCT000006202' 'NCT000025971'\n",
      " 'NCT000006203' 'NCT000006204' 'NCT000006205' 'NCT000002591'\n",
      " 'NCT000006206' 'NCT000006207'] ...\n",
      "phase: ['PHASE3' 'PHASE4' nan 'PHASE2' 'PHASE2/PHASE3' 'PHASE1' 'PHASE1/PHASE2']\n",
      "condition: ['Hypercholesterolemia' 'Spondylolisthesis' 'Prostate Cancer'\n",
      " 'Cardiovascular Diseases' 'Coronary Disease'\n",
      " 'Substance-Related Disorders' 'Hypertension' 'Diabetes Mellitus, Type 2'\n",
      " 'Atherosclerosis' 'Acquired Immunodeficiency Syndrome'] ...\n",
      "intervention_type: ['DRUG' 'OTHER' 'PROCEDURE' 'BEHAVIORAL' 'DIETARY_SUPPLEMENT' 'DEVICE' nan\n",
      " 'BIOLOGICAL']\n",
      "study_design: ['RANDOMIZED' 'NON_RANDOMIZED' nan]\n",
      "sponsor_type: ['NIH' 'FED' 'OTHER' 'UNKNOWN' 'INDUSTRY' 'NETWORK']\n",
      "enrollment: [1.0251e+04 3.0400e+02 2.0280e+03 1.2000e+01 2.7900e+02 3.9876e+04\n",
      "        nan 6.1000e+01 2.3400e+02 2.0000e+02] ...\n",
      "status: ['COMPLETED']\n",
      "gender: ['ALL' 'MALE' 'FEMALE']\n",
      "min_age: ['40 Years' '18 Years' '21 Years' '45 Years' '13 Years' '55 Years'\n",
      " '12 Years' '60 Years' '5 Years' '30 Years'] ...\n",
      "max_age: ['79 Years' nan '39 Years' '64 Years' '90 Years' '75 Years' '17 Years'\n",
      " '95 Years' '12 Years' '80 Years'] ...\n",
      "location: ['Canada' 'United States' nan]\n",
      "start_date: ['1999-09-30' '2000-03-31' '1994-10-31' '1996-08-31' '1992-12-31'\n",
      " '1992-09-30' '1987-09-30' '1997-05-31' '1999-03-31' '1990-03-31'] ...\n",
      "completion_date: ['2012-12-31' '2015-04-30' '2018-05-14' '1997-11-30' '1995-03-31'\n",
      " '2005-02-28' '2000-10-31' '2000-06-30' '2004-01-31' '1991-10-31'] ...\n",
      "results: ['Glycemia Trial: Standard Control/Lipid Trial: Fenofibrate' 'No result'\n",
      " 'Glycemia Trial: Standard Control' 'Radiation Therapy Alone'\n",
      " 'Glycemia Trial: Intensive Control' 'Lipid Trial: Placebo'\n",
      " 'Glycemia Trial: Intensive Control/BP Trial: Standard Control'\n",
      " 'Lipid Trial: Fenofibrate' 'Combination Therapy' 'Intravenous Foscarnet'] ...\n",
      "p_value: [0.02    nan 0.32  0.001 0.12  0.3   0.2   0.007 0.05  0.04 ] ...\n",
      "final_status: ['success' 'fail']\n"
     ]
    }
   ],
   "source": [
    "unique_values = {col: df[col].unique() for col in df.columns}\n",
    "for col, values in unique_values.items():\n",
    "    print(f\"{col}: {values[:10]}{' ...' if len(values) > 10 else ''}\")  # show first 10 unique values for brevity"
   ]
  },
  {
   "cell_type": "code",
   "execution_count": 6,
   "id": "a738c33d",
   "metadata": {},
   "outputs": [
    {
     "name": "stdout",
     "output_type": "stream",
     "text": [
      "nct_id                   0\n",
      "phase                  445\n",
      "condition                0\n",
      "intervention_type      123\n",
      "study_design           963\n",
      "sponsor_type             0\n",
      "enrollment            3731\n",
      "status                   0\n",
      "gender                   0\n",
      "min_age                296\n",
      "max_age              29652\n",
      "location              7103\n",
      "start_date             651\n",
      "completion_date        896\n",
      "results                  0\n",
      "p_value              11268\n",
      "final_status             0\n",
      "dtype: int64\n"
     ]
    }
   ],
   "source": [
    "# Check the number of NaN/null values in each column\n",
    "null_counts = df.isnull().sum()\n",
    "print(null_counts)"
   ]
  },
  {
   "cell_type": "code",
   "execution_count": 7,
   "id": "3a0a4e4f",
   "metadata": {},
   "outputs": [],
   "source": [
    "df = df.dropna(subset=['p_value',])"
   ]
  },
  {
   "cell_type": "code",
   "execution_count": 8,
   "id": "61b388c1",
   "metadata": {},
   "outputs": [
    {
     "name": "stdout",
     "output_type": "stream",
     "text": [
      "nct_id                   0\n",
      "phase                    0\n",
      "condition                0\n",
      "intervention_type        0\n",
      "study_design            16\n",
      "sponsor_type             0\n",
      "enrollment               0\n",
      "status                   0\n",
      "gender                   0\n",
      "min_age                  0\n",
      "max_age              23013\n",
      "location                 0\n",
      "start_date               0\n",
      "completion_date          0\n",
      "results                  0\n",
      "p_value                  0\n",
      "final_status             0\n",
      "dtype: int64\n"
     ]
    }
   ],
   "source": [
    "null_counts = df.isnull().sum()\n",
    "print(null_counts)"
   ]
  },
  {
   "cell_type": "code",
   "execution_count": 9,
   "id": "ab533ffa",
   "metadata": {},
   "outputs": [
    {
     "data": {
      "text/plain": [
       "study_design\n",
       "RANDOMIZED    118716\n",
       "Name: count, dtype: int64"
      ]
     },
     "execution_count": 9,
     "metadata": {},
     "output_type": "execute_result"
    }
   ],
   "source": [
    "df['study_design'].value_counts()"
   ]
  },
  {
   "cell_type": "markdown",
   "id": "cc29c73a",
   "metadata": {},
   "source": [
    "we will remove 'study_design' column"
   ]
  },
  {
   "cell_type": "code",
   "execution_count": 42,
   "id": "7ccc343b",
   "metadata": {},
   "outputs": [
    {
     "data": {
      "text/plain": [
       "intervention_type\n",
       "DRUG    118732\n",
       "Name: count, dtype: int64"
      ]
     },
     "execution_count": 42,
     "metadata": {},
     "output_type": "execute_result"
    }
   ],
   "source": [
    "df['intervention_type'].value_counts()"
   ]
  },
  {
   "cell_type": "code",
   "execution_count": null,
   "id": "8943cb2f",
   "metadata": {},
   "outputs": [
    {
     "data": {
      "text/plain": [
       "final_status\n",
       "fail       59150\n",
       "success    36569\n",
       "Name: count, dtype: int64"
      ]
     },
     "execution_count": 16,
     "metadata": {},
     "output_type": "execute_result"
    }
   ],
   "source": [
    "df['final_status'].value_counts()"
   ]
  },
  {
   "cell_type": "code",
   "execution_count": 18,
   "id": "e93edb42",
   "metadata": {},
   "outputs": [
    {
     "data": {
      "image/png": "[encoded data removed]",
      "text/plain": [
       "<Figure size 1200x600 with 1 Axes>"
      ]
     },
     "metadata": {},
     "output_type": "display_data"
    }
   ],
   "source": [
    "ax = condition_status_counts.plot(kind='bar', stacked=True, figsize=(12, 6))\n",
    "plt.pyplot.xlabel('Condition')\n",
    "plt.pyplot.ylabel('Count')\n",
    "plt.pyplot.title('Condition vs Final Status')\n",
    "plt.pyplot.legend(title=col)\n",
    "plt.pyplot.tight_layout()\n",
    "\n",
    "# Add counts on top of each bar\n",
    "for p in ax.patches:\n",
    "    height = p.get_height()\n",
    "    if height > 0:\n",
    "        ax.annotate(f'{int(height)}', \n",
    "                    (p.get_x() + p.get_width() / 2, p.get_y() + height / 2),\n",
    "                    ha='center', va='center', fontsize=8, color='white')\n",
    "\n",
    "plt.pyplot.show()"
   ]
  },
  {
   "cell_type": "code",
   "execution_count": 19,
   "id": "e07b5a43",
   "metadata": {},
   "outputs": [
    {
     "name": "stdout",
     "output_type": "stream",
     "text": [
      "condition\n",
      "Atherosclerosis              13753\n",
      "Diabetes Mellitus            13679\n",
      "Coronary Disease             13575\n",
      "Cardiovascular Diseases      13564\n",
      "Diabetes Mellitus, Type 2    13560\n",
      "Hypertension                 13549\n",
      "Hypercholesterolemia         13531\n",
      "Metabolic Disease               76\n",
      "Cognition Disorders             66\n",
      "HIV Infections                  66\n",
      "Obesity                         58\n",
      "Sleep Apnea Syndrome            56\n",
      "Depression                      41\n",
      "Schizophrenia                   40\n",
      "Psychotic Disorder              37\n",
      "Melancholia                     35\n",
      "Childhood Schizophrenia         33\n",
      "Name: count, dtype: int64\n"
     ]
    }
   ],
   "source": [
    "condition_counts = df['condition'].value_counts()\n",
    "print(condition_counts)"
   ]
  },
  {
   "cell_type": "markdown",
   "id": "ff07a3e9",
   "metadata": {},
   "source": [
    "we can make a seperate category as other for the rest of the conditions with low statistics"
   ]
  },
  {
   "cell_type": "code",
   "execution_count": 22,
   "id": "1ad98b73",
   "metadata": {},
   "outputs": [
    {
     "data": {
      "image/png": "[encoded data removed]",
      "text/plain": [
       "<Figure size 800x500 with 1 Axes>"
      ]
     },
     "metadata": {},
     "output_type": "display_data"
    },
    {
     "data": {
      "image/png": "[encoded data removed]",
      "text/plain": [
       "<Figure size 800x500 with 1 Axes>"
      ]
     },
     "metadata": {},
     "output_type": "display_data"
    }
   ],
   "source": [
    "import matplotlib.pyplot as plt\n",
    "\n",
    "# Bar plot for average duration per phase\n",
    "phase_duration = df.groupby('phase')['duration_days'].mean().sort_index()\n",
    "ax1 = phase_duration.plot(kind='bar', figsize=(8, 5), color='skyblue')\n",
    "plt.title('Average Trial Duration by Phase')\n",
    "plt.xlabel('Phase')\n",
    "plt.ylabel('Average Duration (days)')\n",
    "\n",
    "# Annotate values on bars\n",
    "for i, v in enumerate(phase_duration):\n",
    "    ax1.text(i, v + 50, f'{int(v)}', ha='center', va='bottom', fontsize=10)\n",
    "plt.tight_layout()\n",
    "plt.show()\n",
    "\n",
    "# Bar plot for number of trials per phase\n",
    "phase_counts = df['phase'].value_counts().sort_index()\n",
    "ax2 = phase_counts.plot(kind='bar', figsize=(8, 5), color='lightgreen')\n",
    "plt.title('Number of Trials per Phase')\n",
    "plt.xlabel('Phase')\n",
    "plt.ylabel('Count')\n",
    "\n",
    "# Annotate values on bars\n",
    "for i, v in enumerate(phase_counts):\n",
    "    ax2.text(i, v + max(phase_counts)*0.01, f'{int(v)}', ha='center', va='bottom', fontsize=10)\n",
    "plt.tight_layout()\n",
    "plt.show()"
   ]
  },
  {
   "cell_type": "code",
   "execution_count": 43,
   "id": "452eae5e",
   "metadata": {},
   "outputs": [
    {
     "name": "stdout",
     "output_type": "stream",
     "text": [
      "phase\n",
      "PHASE2     71.115974\n",
      "PHASE3     50.022441\n",
      "PHASE4    100.000000\n",
      "Name: success_pct, dtype: float64\n"
     ]
    }
   ],
   "source": [
    "# Calculate percentage of successful trials for each phase\n",
    "phase_success_pct = df.groupby('phase')['final_status'].value_counts(normalize=True).unstack().fillna(0)\n",
    "phase_success_pct['success_pct'] = phase_success_pct['success'] * 100\n",
    "print(phase_success_pct['success_pct'])"
   ]
  },
  {
   "cell_type": "code",
   "execution_count": 46,
   "id": "a0cf6f15",
   "metadata": {},
   "outputs": [
    {
     "name": "stdout",
     "output_type": "stream",
     "text": [
      "phase\n",
      "PHASE2      325\n",
      "PHASE3    59071\n",
      "PHASE4      186\n",
      "dtype: int64\n"
     ]
    }
   ],
   "source": [
    "# Count of successful trials for each phase\n",
    "phase_success_count = df[df['final_status'] == 'success'].groupby('phase').size()\n",
    "print(phase_success_count)"
   ]
  },
  {
   "cell_type": "code",
   "execution_count": 48,
   "id": "b1e3cb10",
   "metadata": {},
   "outputs": [
    {
     "data": {
      "text/plain": [
       "phase\n",
       "PHASE3    118089\n",
       "PHASE2       457\n",
       "PHASE4       186\n",
       "Name: count, dtype: int64"
      ]
     },
     "execution_count": 48,
     "metadata": {},
     "output_type": "execute_result"
    }
   ],
   "source": [
    "df['phase'].value_counts()"
   ]
  },
  {
   "cell_type": "code",
   "execution_count": 52,
   "id": "f59e4cb6",
   "metadata": {},
   "outputs": [
    {
     "data": {
      "image/png": "[encoded data removed]",
      "text/plain": [
       "<Figure size 1000x600 with 1 Axes>"
      ]
     },
     "metadata": {},
     "output_type": "display_data"
    },
    {
     "name": "stdout",
     "output_type": "stream",
     "text": [
      "Number of successful trials for each phase:\n"
     ]
    },
    {
     "data": {
      "text/plain": [
       "phase\n",
       "PHASE3    118089\n",
       "PHASE2       457\n",
       "PHASE4       186\n",
       "Name: count, dtype: int64"
      ]
     },
     "execution_count": 52,
     "metadata": {},
     "output_type": "execute_result"
    }
   ],
   "source": [
    "import seaborn as sns\n",
    "# Pie chart for percentage of successful trials by Phase\n",
    "phase_percentage = df.groupby('phase')['final_status'].value_counts(normalize=True).unstack() * 100\n",
    "plt.figure(figsize=(10, 6))\n",
    "# Pie chart for percentage of successful trials by Phase\n",
    "success_phase_percentage = phase_percentage['success'].dropna()\n",
    "plt.pie(success_phase_percentage, labels=success_phase_percentage.index, autopct='%1.1f%%', startangle=140, colors=sns.color_palette('viridis', len(success_phase_percentage)))\n",
    "plt.axis('equal')\n",
    "plt.title('Percentage of Successful Trials by Phase', fontsize=14)\n",
    "\n",
    "plt.show()\n",
    "print('Number of successful trials for each phase:')\n",
    "df['phase'].value_counts()"
   ]
  },
  {
   "cell_type": "code",
   "execution_count": 54,
   "id": "bbd6e6fe",
   "metadata": {},
   "outputs": [
    {
     "name": "stdout",
     "output_type": "stream",
     "text": [
      "Index(['nct_id', 'phase', 'condition', 'intervention_type', 'study_design',\n",
      "       'sponsor_type', 'enrollment', 'status', 'gender', 'min_age', 'max_age',\n",
      "       'location', 'start_date', 'completion_date', 'results', 'p_value',\n",
      "       'final_status'],\n",
      "      dtype='object')\n"
     ]
    }
   ],
   "source": [
    "print(df.columns)"
   ]
  },
  {
   "cell_type": "markdown",
   "id": "505bd133",
   "metadata": {},
   "source": [
    "non-relevent columns:- \n",
    "\n",
    "1. nct_id                           \n",
    "2. intervention_type (has only durg only one unique value )\n",
    "3. study_design      ()\n",
    "4. status            ()\n",
    "5. gender            ()\n",
    "6. min_age           ()\n",
    "7. max_age           ()\n",
    "8. location          () \n",
    "9. start_date             \n",
    "10. completion_date          \n",
    "11. results                  \n",
    "12. p_value              \n"
   ]
  },
  {
   "cell_type": "markdown",
   "id": "7ba36ef7",
   "metadata": {},
   "source": [
    "training variables left:-\n",
    "\n",
    "1. phase\n",
    "2. condition\n",
    "3. sponser_type\n",
    "4. enrollment\n",
    "5. location\n",
    "6. time frame (start_date - end_date(in years))\n",
    "\n",
    "\n"
   ]
  },
  {
   "cell_type": "code",
   "execution_count": 55,
   "id": "2cc23dd4",
   "metadata": {},
   "outputs": [],
   "source": [
    "# Calculate trial period in years from start_date and completion_date\n",
    "df['trial_period'] = (\n",
    "    pd.to_datetime(df['completion_date']) - pd.to_datetime(df['start_date'])\n",
    ").dt.days / 365.25"
   ]
  },
  {
   "cell_type": "code",
   "execution_count": 56,
   "id": "80dcd1c8",
   "metadata": {},
   "outputs": [
    {
     "data": {
      "text/html": [
       "<div>\n",
       "<style scoped>\n",
       "    .dataframe tbody tr th:only-of-type {\n",
       "        vertical-align: middle;\n",
       "    }\n",
       "\n",
       "    .dataframe tbody tr th {\n",
       "        vertical-align: top;\n",
       "    }\n",
       "\n",
       "    .dataframe thead th {\n",
       "        text-align: right;\n",
       "    }\n",
       "</style>\n",
       "<table border=\"1\" class=\"dataframe\">\n",
       "  <thead>\n",
       "    <tr style=\"text-align: right;\">\n",
       "      <th></th>\n",
       "      <th>nct_id</th>\n",
       "      <th>phase</th>\n",
       "      <th>condition</th>\n",
       "      <th>intervention_type</th>\n",
       "      <th>study_design</th>\n",
       "      <th>sponsor_type</th>\n",
       "      <th>enrollment</th>\n",
       "      <th>status</th>\n",
       "      <th>gender</th>\n",
       "      <th>min_age</th>\n",
       "      <th>max_age</th>\n",
       "      <th>location</th>\n",
       "      <th>start_date</th>\n",
       "      <th>completion_date</th>\n",
       "      <th>results</th>\n",
       "      <th>p_value</th>\n",
       "      <th>final_status</th>\n",
       "      <th>trial_period</th>\n",
       "    </tr>\n",
       "  </thead>\n",
       "  <tbody>\n",
       "    <tr>\n",
       "      <th>0</th>\n",
       "      <td>NCT000006201</td>\n",
       "      <td>PHASE3</td>\n",
       "      <td>Hypercholesterolemia</td>\n",
       "      <td>DRUG</td>\n",
       "      <td>RANDOMIZED</td>\n",
       "      <td>NIH</td>\n",
       "      <td>10251.0</td>\n",
       "      <td>COMPLETED</td>\n",
       "      <td>ALL</td>\n",
       "      <td>40 Years</td>\n",
       "      <td>79 Years</td>\n",
       "      <td>Canada</td>\n",
       "      <td>1999-09-30</td>\n",
       "      <td>2012-12-31</td>\n",
       "      <td>Glycemia Trial: Standard Control/Lipid Trial: ...</td>\n",
       "      <td>0.020</td>\n",
       "      <td>success</td>\n",
       "      <td>13.253936</td>\n",
       "    </tr>\n",
       "    <tr>\n",
       "      <th>2</th>\n",
       "      <td>NCT000006202</td>\n",
       "      <td>PHASE3</td>\n",
       "      <td>Hypercholesterolemia</td>\n",
       "      <td>DRUG</td>\n",
       "      <td>RANDOMIZED</td>\n",
       "      <td>FED</td>\n",
       "      <td>10251.0</td>\n",
       "      <td>COMPLETED</td>\n",
       "      <td>ALL</td>\n",
       "      <td>40 Years</td>\n",
       "      <td>79 Years</td>\n",
       "      <td>United States</td>\n",
       "      <td>1999-09-30</td>\n",
       "      <td>2012-12-31</td>\n",
       "      <td>Glycemia Trial: Standard Control</td>\n",
       "      <td>0.320</td>\n",
       "      <td>fail</td>\n",
       "      <td>13.253936</td>\n",
       "    </tr>\n",
       "    <tr>\n",
       "      <th>3</th>\n",
       "      <td>NCT000025971</td>\n",
       "      <td>PHASE3</td>\n",
       "      <td>Prostate Cancer</td>\n",
       "      <td>DRUG</td>\n",
       "      <td>RANDOMIZED</td>\n",
       "      <td>NIH</td>\n",
       "      <td>2028.0</td>\n",
       "      <td>COMPLETED</td>\n",
       "      <td>MALE</td>\n",
       "      <td>18 Years</td>\n",
       "      <td>NaN</td>\n",
       "      <td>United States</td>\n",
       "      <td>1994-10-31</td>\n",
       "      <td>2018-05-14</td>\n",
       "      <td>Radiation Therapy Alone</td>\n",
       "      <td>0.001</td>\n",
       "      <td>success</td>\n",
       "      <td>23.534565</td>\n",
       "    </tr>\n",
       "    <tr>\n",
       "      <th>4</th>\n",
       "      <td>NCT000006203</td>\n",
       "      <td>PHASE3</td>\n",
       "      <td>Cardiovascular Diseases</td>\n",
       "      <td>DRUG</td>\n",
       "      <td>RANDOMIZED</td>\n",
       "      <td>NIH</td>\n",
       "      <td>10251.0</td>\n",
       "      <td>COMPLETED</td>\n",
       "      <td>ALL</td>\n",
       "      <td>40 Years</td>\n",
       "      <td>79 Years</td>\n",
       "      <td>United States</td>\n",
       "      <td>1999-09-30</td>\n",
       "      <td>2012-12-31</td>\n",
       "      <td>Glycemia Trial: Intensive Control</td>\n",
       "      <td>0.320</td>\n",
       "      <td>fail</td>\n",
       "      <td>13.253936</td>\n",
       "    </tr>\n",
       "    <tr>\n",
       "      <th>5</th>\n",
       "      <td>NCT000006204</td>\n",
       "      <td>PHASE3</td>\n",
       "      <td>Coronary Disease</td>\n",
       "      <td>DRUG</td>\n",
       "      <td>RANDOMIZED</td>\n",
       "      <td>NIH</td>\n",
       "      <td>10251.0</td>\n",
       "      <td>COMPLETED</td>\n",
       "      <td>ALL</td>\n",
       "      <td>40 Years</td>\n",
       "      <td>79 Years</td>\n",
       "      <td>United States</td>\n",
       "      <td>1999-09-30</td>\n",
       "      <td>2012-12-31</td>\n",
       "      <td>Glycemia Trial: Standard Control</td>\n",
       "      <td>0.120</td>\n",
       "      <td>fail</td>\n",
       "      <td>13.253936</td>\n",
       "    </tr>\n",
       "  </tbody>\n",
       "</table>\n",
       "</div>"
      ],
      "text/plain": [
       "         nct_id   phase                condition intervention_type  \\\n",
       "0  NCT000006201  PHASE3     Hypercholesterolemia              DRUG   \n",
       "2  NCT000006202  PHASE3     Hypercholesterolemia              DRUG   \n",
       "3  NCT000025971  PHASE3          Prostate Cancer              DRUG   \n",
       "4  NCT000006203  PHASE3  Cardiovascular Diseases              DRUG   \n",
       "5  NCT000006204  PHASE3         Coronary Disease              DRUG   \n",
       "\n",
       "  study_design sponsor_type  enrollment     status gender   min_age   max_age  \\\n",
       "0   RANDOMIZED          NIH     10251.0  COMPLETED    ALL  40 Years  79 Years   \n",
       "2   RANDOMIZED          FED     10251.0  COMPLETED    ALL  40 Years  79 Years   \n",
       "3   RANDOMIZED          NIH      2028.0  COMPLETED   MALE  18 Years       NaN   \n",
       "4   RANDOMIZED          NIH     10251.0  COMPLETED    ALL  40 Years  79 Years   \n",
       "5   RANDOMIZED          NIH     10251.0  COMPLETED    ALL  40 Years  79 Years   \n",
       "\n",
       "        location  start_date completion_date  \\\n",
       "0         Canada  1999-09-30      2012-12-31   \n",
       "2  United States  1999-09-30      2012-12-31   \n",
       "3  United States  1994-10-31      2018-05-14   \n",
       "4  United States  1999-09-30      2012-12-31   \n",
       "5  United States  1999-09-30      2012-12-31   \n",
       "\n",
       "                                             results  p_value final_status  \\\n",
       "0  Glycemia Trial: Standard Control/Lipid Trial: ...    0.020      success   \n",
       "2                   Glycemia Trial: Standard Control    0.320         fail   \n",
       "3                            Radiation Therapy Alone    0.001      success   \n",
       "4                  Glycemia Trial: Intensive Control    0.320         fail   \n",
       "5                   Glycemia Trial: Standard Control    0.120         fail   \n",
       "\n",
       "   trial_period  \n",
       "0     13.253936  \n",
       "2     13.253936  \n",
       "3     23.534565  \n",
       "4     13.253936  \n",
       "5     13.253936  "
      ]
     },
     "execution_count": 56,
     "metadata": {},
     "output_type": "execute_result"
    }
   ],
   "source": [
    "df.head()"
   ]
  },
  {
   "cell_type": "code",
   "execution_count": 57,
   "id": "1c049fe8",
   "metadata": {},
   "outputs": [
    {
     "name": "stdout",
     "output_type": "stream",
     "text": [
      "nct_id                object\n",
      "phase                 object\n",
      "condition             object\n",
      "intervention_type     object\n",
      "study_design          object\n",
      "sponsor_type          object\n",
      "enrollment           float64\n",
      "status                object\n",
      "gender                object\n",
      "min_age               object\n",
      "max_age               object\n",
      "location              object\n",
      "start_date            object\n",
      "completion_date       object\n",
      "results               object\n",
      "p_value              float64\n",
      "final_status          object\n",
      "trial_period         float64\n",
      "dtype: object\n"
     ]
    }
   ],
   "source": [
    "print(df.dtypes)"
   ]
  },
  {
   "cell_type": "code",
   "execution_count": 58,
   "id": "c9addeef",
   "metadata": {},
   "outputs": [
    {
     "name": "stdout",
     "output_type": "stream",
     "text": [
      "Numner of successful trials\n",
      "intervention_type\n",
      "DRUG    118732\n",
      "Name: count, dtype: int64\n",
      "\n",
      "Total number of trials\n",
      "intervention_type\n",
      "DRUG    118732\n",
      "Name: count, dtype: int64\n"
     ]
    }
   ],
   "source": [
    "print(f\"Numner of successful trials\\n{df['intervention_type'].value_counts()}\\n\\nTotal number of trials\\n{df['intervention_type'].value_counts()}\")"
   ]
  },
  {
   "cell_type": "code",
   "execution_count": null,
   "id": "e7a587e4",
   "metadata": {},
   "outputs": [],
   "source": [
    "cols_to_drop = [\n",
    "    'nct_id', 'intervention_type', 'study_design', 'status', 'gender',\n",
    "    'min_age', 'max_age', 'location', 'start_date', 'completion_date',\n",
    "    'results', 'p_value'\n",
    "]\n",
    "df = df.drop(columns=cols_to_drop)\n",
    "df.head()"
   ]
  },
  {
   "cell_type": "code",
   "execution_count": null,
   "id": "90089e6f",
   "metadata": {},
   "outputs": [],
   "source": []
  }
 ],
 "metadata": {
  "kernelspec": {
   "display_name": "Python 3",
   "language": "python",
   "name": "python3"
  },
  "language_info": {
   "codemirror_mode": {
    "name": "ipython",
    "version": 3
   },
   "file_extension": ".py",
   "mimetype": "text/x-python",
   "name": "python",
   "nbconvert_exporter": "python",
   "pygments_lexer": "ipython3",
   "version": "3.12.1"
  }
 },
 "nbformat": 4,
 "nbformat_minor": 5
}
